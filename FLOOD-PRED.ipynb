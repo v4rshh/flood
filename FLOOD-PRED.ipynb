{
  "nbformat": 4,
  "nbformat_minor": 0,
  "metadata": {
    "colab": {
      "provenance": [],
      "authorship_tag": "ABX9TyMIUimGuKvcWTu6/InmiYh+",
      "include_colab_link": true
    },
    "kernelspec": {
      "name": "python3",
      "display_name": "Python 3"
    },
    "language_info": {
      "name": "python"
    }
  },
  "cells": [
    {
      "cell_type": "markdown",
      "metadata": {
        "id": "view-in-github",
        "colab_type": "text"
      },
      "source": [
        "<a href=\"https://colab.research.google.com/github/v4rshh/flood/blob/main/FLOOD-PRED.ipynb\" target=\"_parent\"><img src=\"https://colab.research.google.com/assets/colab-badge.svg\" alt=\"Open In Colab\"/></a>"
      ]
    },
    {
      "cell_type": "code",
      "execution_count": 1,
      "metadata": {
        "id": "_Ca45GPFPvBg"
      },
      "outputs": [],
      "source": [
        "import numpy as np\n",
        "import matplotlib.pyplot as plt\n",
        "import pandas as pd"
      ]
    },
    {
      "cell_type": "code",
      "source": [
        "!wget 'https://raw.githubusercontent.com/v4rshh/flood/main/flood.csv' -O flood.csv"
      ],
      "metadata": {
        "colab": {
          "base_uri": "https://localhost:8080/"
        },
        "id": "MZ_olxC5QZ4N",
        "outputId": "8899a6e3-f550-463c-c94e-daf12d0b4858"
      },
      "execution_count": 17,
      "outputs": [
        {
          "output_type": "stream",
          "name": "stdout",
          "text": [
            "--2025-09-25 10:31:22--  https://raw.githubusercontent.com/v4rshh/flood/main/flood.csv\n",
            "Resolving raw.githubusercontent.com (raw.githubusercontent.com)... 185.199.108.133, 185.199.109.133, 185.199.110.133, ...\n",
            "Connecting to raw.githubusercontent.com (raw.githubusercontent.com)|185.199.108.133|:443... connected.\n",
            "HTTP request sent, awaiting response... 200 OK\n",
            "Length: 1844294 (1.8M) [text/plain]\n",
            "Saving to: ‘flood.csv’\n",
            "\n",
            "\rflood.csv             0%[                    ]       0  --.-KB/s               \rflood.csv           100%[===================>]   1.76M  --.-KB/s    in 0.04s   \n",
            "\n",
            "2025-09-25 10:31:22 (42.5 MB/s) - ‘flood.csv’ saved [1844294/1844294]\n",
            "\n"
          ]
        }
      ]
    },
    {
      "cell_type": "code",
      "source": [
        "df = pd.read_csv('flood.csv', low_memory=False)\n",
        "print(df.head())"
      ],
      "metadata": {
        "colab": {
          "base_uri": "https://localhost:8080/"
        },
        "id": "zZkmX9bjW2ZC",
        "outputId": "07e5cd4c-2a6e-4f94-e1ca-2b85dc074610"
      },
      "execution_count": 3,
      "outputs": [
        {
          "output_type": "stream",
          "name": "stdout",
          "text": [
            "    Latitude  Longitude    Rainfall  Temperature (°C)  Humidity (%)  \\\n",
            "0  18.861663  78.835584  218.999493         34.144337     43.912963   \n",
            "1  35.570715  77.654451   55.353599         28.778774     27.585422   \n",
            "2  29.227824  73.108463  103.991908         43.934956     30.108738   \n",
            "3  25.361096  85.610733  198.984191         21.569354     34.453690   \n",
            "4  12.524541  81.822101  144.626803         32.635692     36.292267   \n",
            "\n",
            "   River Discharge (m³/s)  Water Level (m)  Elevation (m)    Land Cover  \\\n",
            "0             4236.182888         7.415552     377.465433    Water Body   \n",
            "1             2472.585219         8.811019    7330.608875        Forest   \n",
            "2              977.328053         4.631799    2205.873488  Agricultural   \n",
            "3             3683.208933         2.891787    2512.277800        Desert   \n",
            "4             2093.390678         3.188466    2001.818223  Agricultural   \n",
            "\n",
            "  Soil Type  Population Density  Infrastructure  Floods  Flood Occurred  \n",
            "0      Clay         7276.742184               1       0               1  \n",
            "1      Peat         6897.736956               0       1               0  \n",
            "2      Loam         4361.518494               1       1               1  \n",
            "3     Sandy         6163.069701               1       1               0  \n",
            "4      Loam         6167.964591               1       0               0  \n"
          ]
        }
      ]
    },
    {
      "cell_type": "code",
      "source": [],
      "metadata": {
        "id": "mfojVZx0X2ur"
      },
      "execution_count": 3,
      "outputs": []
    },
    {
      "cell_type": "code",
      "metadata": {
        "colab": {
          "base_uri": "https://localhost:8080/"
        },
        "id": "2a3f4497",
        "outputId": "db7af633-8d75-49f2-ae88-525d08a428f9"
      },
      "source": [
        "with open('flood.csv', 'r') as f:\n",
        "    for i, line in enumerate(f):\n",
        "        if i >= 35 and i <= 40: # Check lines around the error\n",
        "            print(f\"Line {i+1}: {line.strip()}\")"
      ],
      "execution_count": 4,
      "outputs": [
        {
          "output_type": "stream",
          "name": "stdout",
          "text": [
            "Line 36: 36.00332895916222,87.11809157447529,22.01351692313279,44.57686562765267,66.25725450984302,4351.391966483979,6.741860867397083,8747.961155863997,Urban,Clay,4076.1172419660206,1,0,1\n",
            "Line 37: 31.443523095377373,77.99882093098157,243.81901482947572,25.166802704359082,54.017165541334016,1976.9535112556036,5.9072068461082665,2521.9789127149634,Forest,Peat,8541.578819268212,0,1,0\n",
            "Line 38: 16.83379930602775,93.91581082362394,173.889171070984,44.136154835711935,86.38197131392744,169.925713123375,9.777671854533486,7408.740210102313,Urban,Sandy,379.49922033033044,0,1,1\n",
            "Line 39: 10.832491306185133,76.45399091638458,70.72845385907192,19.366867431858708,95.43120490685541,2880.6998167755137,1.2587457225765186,1685.2416451632287,Agricultural,Sandy,8855.542968094533,0,0,1\n",
            "Line 40: 27.84275776885255,84.31863475692388,268.4043522998004,16.220843170410852,57.22686895308886,1695.9675136268615,9.864744063027551,8411.287321308848,Water Body,Sandy,4700.1435597156205,0,1,1\n",
            "Line 41: 20.76442231844844,70.89219819797259,13.577494161165438,15.989521813638078,56.49176407987198,2240.9418796117666,4.666739338878919,7313.993795557651,Water Body,Peat,3299.9391462914687,1,0,0\n"
          ]
        }
      ]
    },
    {
      "cell_type": "code",
      "source": [
        "# file_path='https://drive.google.com/file/d/1EBVbLCAIXW_G52hJzFtsfwQIcNW_Iu1f/view?usp=drive_link'\n",
        "# df=pd.read_csv(file_path)\n",
        "# print(df.head())\n"
      ],
      "metadata": {
        "id": "qLbSMEjFX4MW"
      },
      "execution_count": 5,
      "outputs": []
    },
    {
      "cell_type": "code",
      "metadata": {
        "colab": {
          "base_uri": "https://localhost:8080/"
        },
        "id": "b6981438",
        "outputId": "3d18b976-d749-44f8-e237-80b36e6dd03d"
      },
      "source": [
        "from google.colab import drive\n",
        "drive.mount('/content/drive')"
      ],
      "execution_count": 6,
      "outputs": [
        {
          "output_type": "stream",
          "name": "stdout",
          "text": [
            "Mounted at /content/drive\n"
          ]
        }
      ]
    },
    {
      "source": [
        "# file_path = '/content/drive/My Drive/flood.csv'\n",
        "# df = pd.read_csv(file_path)\n",
        "# print(df.head())"
      ],
      "cell_type": "code",
      "metadata": {
        "id": "02F5uZbIZ4rp"
      },
      "execution_count": 7,
      "outputs": []
    },
    {
      "cell_type": "code",
      "metadata": {
        "colab": {
          "base_uri": "https://localhost:8080/"
        },
        "id": "b03e3fc6",
        "outputId": "0ce85f11-3259-43a5-983c-272ca4a2524d"
      },
      "source": [
        "import pandas as pd\n",
        "file_path = '/content/drive/My Drive/Colab Notebooks/flood.csv'\n",
        "df = pd.read_csv(file_path)\n",
        "print(df.head())"
      ],
      "execution_count": 8,
      "outputs": [
        {
          "output_type": "stream",
          "name": "stdout",
          "text": [
            "    Latitude  Longitude    Rainfall  Temperature (°C)  Humidity (%)  \\\n",
            "0  18.861663  78.835584  218.999493         34.144337     43.912963   \n",
            "1  35.570715  77.654451   55.353599         28.778774     27.585422   \n",
            "2  29.227824  73.108463  103.991908         43.934956     30.108738   \n",
            "3  25.361096  85.610733  198.984191         21.569354     34.453690   \n",
            "4  12.524541  81.822101  144.626803         32.635692     36.292267   \n",
            "\n",
            "   River Discharge (m³/s)  Water Level (m)  Elevation (m)    Land Cover  \\\n",
            "0             4236.182888         7.415552     377.465433    Water Body   \n",
            "1             2472.585219         8.811019    7330.608875        Forest   \n",
            "2              977.328053         4.631799    2205.873488  Agricultural   \n",
            "3             3683.208933         2.891787    2512.277800        Desert   \n",
            "4             2093.390678         3.188466    2001.818223  Agricultural   \n",
            "\n",
            "  Soil Type  Population Density  Infrastructure  Floods  Flood Occurred  \n",
            "0      Clay         7276.742184               1       0               1  \n",
            "1      Peat         6897.736956               0       1               0  \n",
            "2      Loam         4361.518494               1       1               1  \n",
            "3     Sandy         6163.069701               1       1               0  \n",
            "4      Loam         6167.964591               1       0               0  \n"
          ]
        }
      ]
    },
    {
      "cell_type": "markdown",
      "metadata": {
        "id": "44cc68c9"
      },
      "source": [
        "To mount your Google Drive, run the following code cell and follow the instructions to authorize Colab to access your Drive."
      ]
    },
    {
      "cell_type": "code",
      "source": [
        "x=df.iloc[:,:-1].values\n",
        "y=df.iloc[:,-1].values\n",
        "print(x)\n",
        "print(y)\n",
        "# print(df)"
      ],
      "metadata": {
        "colab": {
          "base_uri": "https://localhost:8080/"
        },
        "id": "ob_WVVI-Uwdp",
        "outputId": "14db3b97-793b-426b-934c-05c642cdd35c"
      },
      "execution_count": 9,
      "outputs": [
        {
          "output_type": "stream",
          "name": "stdout",
          "text": [
            "[[18.861663446573512 78.83558373553426 218.99949329699112 ...\n",
            "  7276.742183727105 1 0]\n",
            " [35.57071488588757 77.6544507907107 55.35359867961347 ...\n",
            "  6897.736955857149 0 1]\n",
            " [29.227824312530743 73.10846346258295 103.99190831096584 ...\n",
            "  4361.518494055209 1 1]\n",
            " ...\n",
            " [35.45452953598276 76.80725560473945 5.836758844363976 ...\n",
            "  7149.938303283302 1 0]\n",
            " [19.527151780256204 80.85628018789332 120.301452745013 ...\n",
            "  906.031452248468 1 0]\n",
            " [14.297071717092484 72.99567961631786 77.21939372411556 ...\n",
            "  4530.770300972757 1 1]]\n",
            "[1 0 1 ... 1 1 1]\n"
          ]
        }
      ]
    },
    {
      "cell_type": "code",
      "source": [
        "from sklearn.impute import SimpleImputer\n",
        "import numpy as np\n",
        "import pandas as pd\n",
        "\n",
        "# Assuming df is your DataFrame from previous cells\n",
        "# Select only numerical columns for imputation\n",
        "numeric_cols = df.select_dtypes(include=np.number).columns\n",
        "x_numeric = df[numeric_cols].values\n",
        "\n",
        "# Check if there are any missing values in the numeric columns\n",
        "if np.isnan(x_numeric).sum() > 0:\n",
        "    imputer = SimpleImputer(missing_values=np.nan, strategy='mean')\n",
        "    x_numeric_imputed = imputer.fit_transform(x_numeric)\n",
        "    print(\"Imputation performed on numeric columns.\")\n",
        "    # You would then need to combine the imputed numeric data with the non-numeric columns\n",
        "    # For now, we'll just print the imputed numeric data\n",
        "    print(x_numeric_imputed)\n",
        "else:\n",
        "    print(\"No missing values found in numeric columns, imputation not needed.\")\n",
        "    # Assign the original numeric data to x_numeric_imputed since no imputation occurred\n",
        "    x_numeric_imputed = x_numeric\n",
        "\n",
        "# Note: The original 'x' variable contained non-numeric data.\n",
        "# If you intend to use the entire dataset for further processing,\n",
        "# you'll need to handle the non-numeric columns (e.g., using one-hot encoding)\n",
        "# and then combine them with the imputed numeric columns.\n",
        "\n",
        "# For now, we will update the 'x' variable to contain only the imputed numeric data\n",
        "x = x_numeric_imputed"
      ],
      "metadata": {
        "id": "T8JVllO-bU0_",
        "colab": {
          "base_uri": "https://localhost:8080/"
        },
        "outputId": "7ca98607-d8fa-44de-b88d-a0880afb4996"
      },
      "execution_count": 10,
      "outputs": [
        {
          "output_type": "stream",
          "name": "stdout",
          "text": [
            "No missing values found in numeric columns, imputation not needed.\n"
          ]
        }
      ]
    },
    {
      "cell_type": "code",
      "source": [
        "missing_counts=df.isnull().sum()\n",
        "print(missing_counts[missing_counts>0])\n",
        "print(missing_counts)\n",
        "counts_list = missing_counts.tolist()\n",
        "count=0\n",
        "for i in counts_list:\n",
        "  count+=i\n",
        "if count ==0:\n",
        "  print(\"no missing values\")\n",
        "#print(\"no missing values\")\n"
      ],
      "metadata": {
        "colab": {
          "base_uri": "https://localhost:8080/"
        },
        "id": "1UZPRjmxlks3",
        "outputId": "4504964a-5c2b-4673-f2a9-2e13473a1efb"
      },
      "execution_count": 11,
      "outputs": [
        {
          "output_type": "stream",
          "name": "stdout",
          "text": [
            "Series([], dtype: int64)\n",
            "Latitude                  0\n",
            "Longitude                 0\n",
            "Rainfall                  0\n",
            "Temperature (°C)          0\n",
            "Humidity (%)              0\n",
            "River Discharge (m³/s)    0\n",
            "Water Level (m)           0\n",
            "Elevation (m)             0\n",
            "Land Cover                0\n",
            "Soil Type                 0\n",
            "Population Density        0\n",
            "Infrastructure            0\n",
            "Floods                    0\n",
            "Flood Occurred            0\n",
            "dtype: int64\n",
            "no missing values\n"
          ]
        }
      ]
    },
    {
      "cell_type": "code",
      "source": [
        "from sklearn.impute import SimpleImputer\n",
        "from sklearn.compose import ColumnTransformer\n",
        "numeric_imputer=SimpleImputer(missing_values=np.nan,strategy='mean')\n",
        "categorical_imputer=SimpleImputer(missing_values=np.nan,strategy='most_frequent')\n",
        "numeric_features=['Latitude','Longitude','Rainfall','Temperature (°C)','Humidity (%)','River Discharge (m³/s)','Water Level (m)','Elevation (m)','Population Density','Infrastructure']\n",
        "categorical_features=['Land Cover','Soil Type']\n",
        "# Longitude                 0\n",
        "# Rainfall                  0\n",
        "# Temperature (°C)          0\n",
        "# Humidity (%)              0\n",
        "# River Discharge (m³/s)    0\n",
        "# Water Level (m)           0\n",
        "# Elevation (m)             0\n",
        "# Land Cover                0\n",
        "# Soil Type                 0\n",
        "# Population Density        0\n",
        "# Infrastructure            0\n",
        "# Floods                    0\n",
        "preprocessor = ColumnTransformer(\n",
        "    transformers=[\n",
        "        ('num', numeric_imputer, numeric_features),\n",
        "        ('cat', categorical_imputer, categorical_features)\n",
        "    ])\n",
        "df_imputed = preprocessor.fit_transform(df)\n",
        "df_imputed = pd.DataFrame(df_imputed, columns=numeric_features + categorical_features)\n",
        "print(df_imputed)\n",
        "print(df_imputed.head())\n",
        "#imputer.fit(x[:,0:13])\n",
        "#x[:,0:13]=imputer.transform(x[:,0:13])\n",
        "print(x)"
      ],
      "metadata": {
        "colab": {
          "base_uri": "https://localhost:8080/"
        },
        "id": "4ACDIJekrekW",
        "outputId": "08a6a0f7-eedf-4080-f858-138170188dad"
      },
      "execution_count": 12,
      "outputs": [
        {
          "output_type": "stream",
          "name": "stdout",
          "text": [
            "       Latitude  Longitude    Rainfall Temperature (°C) Humidity (%)  \\\n",
            "0     18.861663  78.835584  218.999493        34.144337    43.912963   \n",
            "1     35.570715  77.654451   55.353599        28.778774    27.585422   \n",
            "2     29.227824  73.108463  103.991908        43.934956    30.108738   \n",
            "3     25.361096  85.610733  198.984191        21.569354     34.45369   \n",
            "4     12.524541  81.822101  144.626803        32.635692    36.292267   \n",
            "...         ...        ...         ...              ...          ...   \n",
            "9995  32.872024   93.43412  285.682635        37.621017    69.795616   \n",
            "9996  34.027756  69.357605  224.347263        37.935808    38.095486   \n",
            "9997   35.45453  76.807256    5.836759        23.087083    79.919607   \n",
            "9998  19.527152   80.85628  120.301453        28.029593    61.680873   \n",
            "9999  14.297072   72.99568   77.219394        29.622711    88.936537   \n",
            "\n",
            "     River Discharge (m³/s) Water Level (m) Elevation (m) Population Density  \\\n",
            "0               4236.182888        7.415552    377.465433        7276.742184   \n",
            "1               2472.585219        8.811019   7330.608875        6897.736956   \n",
            "2                977.328053        4.631799   2205.873488        4361.518494   \n",
            "3               3683.208933        2.891787     2512.2778        6163.069701   \n",
            "4               2093.390678        3.188466   2001.818223        6167.964591   \n",
            "...                     ...             ...           ...                ...   \n",
            "9995            4830.703665        5.943965     2850.1979        6943.559433   \n",
            "9996            1866.199787        9.466158   3314.692947        3011.997459   \n",
            "9997            1523.374305        9.209185   3377.296962        7149.938303   \n",
            "9998            2036.812638        2.004644   1146.986151         906.031452   \n",
            "9999            2614.166967        0.991856   8381.595028        4530.770301   \n",
            "\n",
            "     Infrastructure    Land Cover Soil Type  \n",
            "0               1.0    Water Body      Clay  \n",
            "1               0.0        Forest      Peat  \n",
            "2               1.0  Agricultural      Loam  \n",
            "3               1.0        Desert     Sandy  \n",
            "4               1.0  Agricultural      Loam  \n",
            "...             ...           ...       ...  \n",
            "9995            0.0  Agricultural      Clay  \n",
            "9996            1.0        Forest      Clay  \n",
            "9997            1.0        Desert      Clay  \n",
            "9998            1.0    Water Body     Sandy  \n",
            "9999            1.0        Desert      Clay  \n",
            "\n",
            "[10000 rows x 12 columns]\n",
            "    Latitude  Longitude    Rainfall Temperature (°C) Humidity (%)  \\\n",
            "0  18.861663  78.835584  218.999493        34.144337    43.912963   \n",
            "1  35.570715  77.654451   55.353599        28.778774    27.585422   \n",
            "2  29.227824  73.108463  103.991908        43.934956    30.108738   \n",
            "3  25.361096  85.610733  198.984191        21.569354     34.45369   \n",
            "4  12.524541  81.822101  144.626803        32.635692    36.292267   \n",
            "\n",
            "  River Discharge (m³/s) Water Level (m) Elevation (m) Population Density  \\\n",
            "0            4236.182888        7.415552    377.465433        7276.742184   \n",
            "1            2472.585219        8.811019   7330.608875        6897.736956   \n",
            "2             977.328053        4.631799   2205.873488        4361.518494   \n",
            "3            3683.208933        2.891787     2512.2778        6163.069701   \n",
            "4            2093.390678        3.188466   2001.818223        6167.964591   \n",
            "\n",
            "  Infrastructure    Land Cover Soil Type  \n",
            "0            1.0    Water Body      Clay  \n",
            "1            0.0        Forest      Peat  \n",
            "2            1.0  Agricultural      Loam  \n",
            "3            1.0        Desert     Sandy  \n",
            "4            1.0  Agricultural      Loam  \n",
            "[[ 18.86166345  78.83558374 218.9994933  ...   1.           0.\n",
            "    1.        ]\n",
            " [ 35.57071489  77.65445079  55.35359868 ...   0.           1.\n",
            "    0.        ]\n",
            " [ 29.22782431  73.10846346 103.99190831 ...   1.           1.\n",
            "    1.        ]\n",
            " ...\n",
            " [ 35.45452954  76.8072556    5.83675884 ...   1.           0.\n",
            "    1.        ]\n",
            " [ 19.52715178  80.85628019 120.30145275 ...   1.           0.\n",
            "    1.        ]\n",
            " [ 14.29707172  72.99567962  77.21939372 ...   1.           1.\n",
            "    1.        ]]\n"
          ]
        }
      ]
    },
    {
      "cell_type": "markdown",
      "source": [],
      "metadata": {
        "id": "eu3hQ6WGlkaA"
      }
    },
    {
      "cell_type": "markdown",
      "source": [],
      "metadata": {
        "id": "M-gsV5VgX344"
      }
    },
    {
      "cell_type": "code",
      "metadata": {
        "colab": {
          "base_uri": "https://localhost:8080/",
          "height": 223
        },
        "id": "7e8d07f7",
        "outputId": "7837ca56-01a2-4fc4-ba35-c69c3936bcbf"
      },
      "source": [
        "# Select only non-numeric columns\n",
        "non_numeric_cols = df.select_dtypes(exclude=np.number).columns\n",
        "x_non_numeric = df[non_numeric_cols]\n",
        "\n",
        "print(\"Non-numeric columns:\")\n",
        "display(x_non_numeric.head())"
      ],
      "execution_count": 13,
      "outputs": [
        {
          "output_type": "stream",
          "name": "stdout",
          "text": [
            "Non-numeric columns:\n"
          ]
        },
        {
          "output_type": "display_data",
          "data": {
            "text/plain": [
              "     Land Cover Soil Type\n",
              "0    Water Body      Clay\n",
              "1        Forest      Peat\n",
              "2  Agricultural      Loam\n",
              "3        Desert     Sandy\n",
              "4  Agricultural      Loam"
            ],
            "text/html": [
              "\n",
              "  <div id=\"df-142a33d9-0e38-4b3c-ac95-71b8f509e08d\" class=\"colab-df-container\">\n",
              "    <div>\n",
              "<style scoped>\n",
              "    .dataframe tbody tr th:only-of-type {\n",
              "        vertical-align: middle;\n",
              "    }\n",
              "\n",
              "    .dataframe tbody tr th {\n",
              "        vertical-align: top;\n",
              "    }\n",
              "\n",
              "    .dataframe thead th {\n",
              "        text-align: right;\n",
              "    }\n",
              "</style>\n",
              "<table border=\"1\" class=\"dataframe\">\n",
              "  <thead>\n",
              "    <tr style=\"text-align: right;\">\n",
              "      <th></th>\n",
              "      <th>Land Cover</th>\n",
              "      <th>Soil Type</th>\n",
              "    </tr>\n",
              "  </thead>\n",
              "  <tbody>\n",
              "    <tr>\n",
              "      <th>0</th>\n",
              "      <td>Water Body</td>\n",
              "      <td>Clay</td>\n",
              "    </tr>\n",
              "    <tr>\n",
              "      <th>1</th>\n",
              "      <td>Forest</td>\n",
              "      <td>Peat</td>\n",
              "    </tr>\n",
              "    <tr>\n",
              "      <th>2</th>\n",
              "      <td>Agricultural</td>\n",
              "      <td>Loam</td>\n",
              "    </tr>\n",
              "    <tr>\n",
              "      <th>3</th>\n",
              "      <td>Desert</td>\n",
              "      <td>Sandy</td>\n",
              "    </tr>\n",
              "    <tr>\n",
              "      <th>4</th>\n",
              "      <td>Agricultural</td>\n",
              "      <td>Loam</td>\n",
              "    </tr>\n",
              "  </tbody>\n",
              "</table>\n",
              "</div>\n",
              "    <div class=\"colab-df-buttons\">\n",
              "\n",
              "  <div class=\"colab-df-container\">\n",
              "    <button class=\"colab-df-convert\" onclick=\"convertToInteractive('df-142a33d9-0e38-4b3c-ac95-71b8f509e08d')\"\n",
              "            title=\"Convert this dataframe to an interactive table.\"\n",
              "            style=\"display:none;\">\n",
              "\n",
              "  <svg xmlns=\"http://www.w3.org/2000/svg\" height=\"24px\" viewBox=\"0 -960 960 960\">\n",
              "    <path d=\"M120-120v-720h720v720H120Zm60-500h600v-160H180v160Zm220 220h160v-160H400v160Zm0 220h160v-160H400v160ZM180-400h160v-160H180v160Zm440 0h160v-160H620v160ZM180-180h160v-160H180v160Zm440 0h160v-160H620v160Z\"/>\n",
              "  </svg>\n",
              "    </button>\n",
              "\n",
              "  <style>\n",
              "    .colab-df-container {\n",
              "      display:flex;\n",
              "      gap: 12px;\n",
              "    }\n",
              "\n",
              "    .colab-df-convert {\n",
              "      background-color: #E8F0FE;\n",
              "      border: none;\n",
              "      border-radius: 50%;\n",
              "      cursor: pointer;\n",
              "      display: none;\n",
              "      fill: #1967D2;\n",
              "      height: 32px;\n",
              "      padding: 0 0 0 0;\n",
              "      width: 32px;\n",
              "    }\n",
              "\n",
              "    .colab-df-convert:hover {\n",
              "      background-color: #E2EBFA;\n",
              "      box-shadow: 0px 1px 2px rgba(60, 64, 67, 0.3), 0px 1px 3px 1px rgba(60, 64, 67, 0.15);\n",
              "      fill: #174EA6;\n",
              "    }\n",
              "\n",
              "    .colab-df-buttons div {\n",
              "      margin-bottom: 4px;\n",
              "    }\n",
              "\n",
              "    [theme=dark] .colab-df-convert {\n",
              "      background-color: #3B4455;\n",
              "      fill: #D2E3FC;\n",
              "    }\n",
              "\n",
              "    [theme=dark] .colab-df-convert:hover {\n",
              "      background-color: #434B5C;\n",
              "      box-shadow: 0px 1px 3px 1px rgba(0, 0, 0, 0.15);\n",
              "      filter: drop-shadow(0px 1px 2px rgba(0, 0, 0, 0.3));\n",
              "      fill: #FFFFFF;\n",
              "    }\n",
              "  </style>\n",
              "\n",
              "    <script>\n",
              "      const buttonEl =\n",
              "        document.querySelector('#df-142a33d9-0e38-4b3c-ac95-71b8f509e08d button.colab-df-convert');\n",
              "      buttonEl.style.display =\n",
              "        google.colab.kernel.accessAllowed ? 'block' : 'none';\n",
              "\n",
              "      async function convertToInteractive(key) {\n",
              "        const element = document.querySelector('#df-142a33d9-0e38-4b3c-ac95-71b8f509e08d');\n",
              "        const dataTable =\n",
              "          await google.colab.kernel.invokeFunction('convertToInteractive',\n",
              "                                                    [key], {});\n",
              "        if (!dataTable) return;\n",
              "\n",
              "        const docLinkHtml = 'Like what you see? Visit the ' +\n",
              "          '<a target=\"_blank\" href=https://colab.research.google.com/notebooks/data_table.ipynb>data table notebook</a>'\n",
              "          + ' to learn more about interactive tables.';\n",
              "        element.innerHTML = '';\n",
              "        dataTable['output_type'] = 'display_data';\n",
              "        await google.colab.output.renderOutput(dataTable, element);\n",
              "        const docLink = document.createElement('div');\n",
              "        docLink.innerHTML = docLinkHtml;\n",
              "        element.appendChild(docLink);\n",
              "      }\n",
              "    </script>\n",
              "  </div>\n",
              "\n",
              "\n",
              "    <div id=\"df-d4c9529a-1aae-43c7-bedb-3ca678a6614a\">\n",
              "      <button class=\"colab-df-quickchart\" onclick=\"quickchart('df-d4c9529a-1aae-43c7-bedb-3ca678a6614a')\"\n",
              "                title=\"Suggest charts\"\n",
              "                style=\"display:none;\">\n",
              "\n",
              "<svg xmlns=\"http://www.w3.org/2000/svg\" height=\"24px\"viewBox=\"0 0 24 24\"\n",
              "     width=\"24px\">\n",
              "    <g>\n",
              "        <path d=\"M19 3H5c-1.1 0-2 .9-2 2v14c0 1.1.9 2 2 2h14c1.1 0 2-.9 2-2V5c0-1.1-.9-2-2-2zM9 17H7v-7h2v7zm4 0h-2V7h2v10zm4 0h-2v-4h2v4z\"/>\n",
              "    </g>\n",
              "</svg>\n",
              "      </button>\n",
              "\n",
              "<style>\n",
              "  .colab-df-quickchart {\n",
              "      --bg-color: #E8F0FE;\n",
              "      --fill-color: #1967D2;\n",
              "      --hover-bg-color: #E2EBFA;\n",
              "      --hover-fill-color: #174EA6;\n",
              "      --disabled-fill-color: #AAA;\n",
              "      --disabled-bg-color: #DDD;\n",
              "  }\n",
              "\n",
              "  [theme=dark] .colab-df-quickchart {\n",
              "      --bg-color: #3B4455;\n",
              "      --fill-color: #D2E3FC;\n",
              "      --hover-bg-color: #434B5C;\n",
              "      --hover-fill-color: #FFFFFF;\n",
              "      --disabled-bg-color: #3B4455;\n",
              "      --disabled-fill-color: #666;\n",
              "  }\n",
              "\n",
              "  .colab-df-quickchart {\n",
              "    background-color: var(--bg-color);\n",
              "    border: none;\n",
              "    border-radius: 50%;\n",
              "    cursor: pointer;\n",
              "    display: none;\n",
              "    fill: var(--fill-color);\n",
              "    height: 32px;\n",
              "    padding: 0;\n",
              "    width: 32px;\n",
              "  }\n",
              "\n",
              "  .colab-df-quickchart:hover {\n",
              "    background-color: var(--hover-bg-color);\n",
              "    box-shadow: 0 1px 2px rgba(60, 64, 67, 0.3), 0 1px 3px 1px rgba(60, 64, 67, 0.15);\n",
              "    fill: var(--button-hover-fill-color);\n",
              "  }\n",
              "\n",
              "  .colab-df-quickchart-complete:disabled,\n",
              "  .colab-df-quickchart-complete:disabled:hover {\n",
              "    background-color: var(--disabled-bg-color);\n",
              "    fill: var(--disabled-fill-color);\n",
              "    box-shadow: none;\n",
              "  }\n",
              "\n",
              "  .colab-df-spinner {\n",
              "    border: 2px solid var(--fill-color);\n",
              "    border-color: transparent;\n",
              "    border-bottom-color: var(--fill-color);\n",
              "    animation:\n",
              "      spin 1s steps(1) infinite;\n",
              "  }\n",
              "\n",
              "  @keyframes spin {\n",
              "    0% {\n",
              "      border-color: transparent;\n",
              "      border-bottom-color: var(--fill-color);\n",
              "      border-left-color: var(--fill-color);\n",
              "    }\n",
              "    20% {\n",
              "      border-color: transparent;\n",
              "      border-left-color: var(--fill-color);\n",
              "      border-top-color: var(--fill-color);\n",
              "    }\n",
              "    30% {\n",
              "      border-color: transparent;\n",
              "      border-left-color: var(--fill-color);\n",
              "      border-top-color: var(--fill-color);\n",
              "      border-right-color: var(--fill-color);\n",
              "    }\n",
              "    40% {\n",
              "      border-color: transparent;\n",
              "      border-right-color: var(--fill-color);\n",
              "      border-top-color: var(--fill-color);\n",
              "    }\n",
              "    60% {\n",
              "      border-color: transparent;\n",
              "      border-right-color: var(--fill-color);\n",
              "    }\n",
              "    80% {\n",
              "      border-color: transparent;\n",
              "      border-right-color: var(--fill-color);\n",
              "      border-bottom-color: var(--fill-color);\n",
              "    }\n",
              "    90% {\n",
              "      border-color: transparent;\n",
              "      border-bottom-color: var(--fill-color);\n",
              "    }\n",
              "  }\n",
              "</style>\n",
              "\n",
              "      <script>\n",
              "        async function quickchart(key) {\n",
              "          const quickchartButtonEl =\n",
              "            document.querySelector('#' + key + ' button');\n",
              "          quickchartButtonEl.disabled = true;  // To prevent multiple clicks.\n",
              "          quickchartButtonEl.classList.add('colab-df-spinner');\n",
              "          try {\n",
              "            const charts = await google.colab.kernel.invokeFunction(\n",
              "                'suggestCharts', [key], {});\n",
              "          } catch (error) {\n",
              "            console.error('Error during call to suggestCharts:', error);\n",
              "          }\n",
              "          quickchartButtonEl.classList.remove('colab-df-spinner');\n",
              "          quickchartButtonEl.classList.add('colab-df-quickchart-complete');\n",
              "        }\n",
              "        (() => {\n",
              "          let quickchartButtonEl =\n",
              "            document.querySelector('#df-d4c9529a-1aae-43c7-bedb-3ca678a6614a button');\n",
              "          quickchartButtonEl.style.display =\n",
              "            google.colab.kernel.accessAllowed ? 'block' : 'none';\n",
              "        })();\n",
              "      </script>\n",
              "    </div>\n",
              "\n",
              "    </div>\n",
              "  </div>\n"
            ],
            "application/vnd.google.colaboratory.intrinsic+json": {
              "type": "dataframe",
              "summary": "{\n  \"name\": \"display(x_non_numeric\",\n  \"rows\": 5,\n  \"fields\": [\n    {\n      \"column\": \"Land Cover\",\n      \"properties\": {\n        \"dtype\": \"string\",\n        \"num_unique_values\": 4,\n        \"samples\": [\n          \"Forest\",\n          \"Desert\",\n          \"Water Body\"\n        ],\n        \"semantic_type\": \"\",\n        \"description\": \"\"\n      }\n    },\n    {\n      \"column\": \"Soil Type\",\n      \"properties\": {\n        \"dtype\": \"string\",\n        \"num_unique_values\": 4,\n        \"samples\": [\n          \"Peat\",\n          \"Sandy\",\n          \"Clay\"\n        ],\n        \"semantic_type\": \"\",\n        \"description\": \"\"\n      }\n    }\n  ]\n}"
            }
          },
          "metadata": {}
        }
      ]
    },
    {
      "cell_type": "code",
      "source": [
        "from sklearn.compose import ColumnTransformer\n",
        "from sklearn.preprocessing import OneHotEncoder\n",
        "import numpy as np\n",
        "\n",
        "# Assuming x_non_numeric contains your non-numeric columns from cell 7e8d07f7\n",
        "# Define the indices of the categorical columns within x_non_numeric if needed,\n",
        "# but since x_non_numeric only contains categorical, we can apply encoder to all columns.\n",
        "# Alternatively, use the column names directly if x_non_numeric is a DataFrame\n",
        "\n",
        "# If x_non_numeric is a numpy array (from .values), use column indices [0, 1]\n",
        "# ct = ColumnTransformer(transformers=[('encoder', OneHotEncoder(), [0, 1])], remainder='passthrough')\n",
        "# x_categorical_encoded = ct.fit_transform(x_non_numeric.values)\n",
        "\n",
        "# If x_non_numeric is a pandas DataFrame, use column names ['Land Cover', 'Soil Type']\n",
        "ct = ColumnTransformer(transformers=[('encoder', OneHotEncoder(), ['Land Cover', 'Soil Type'])], remainder='passthrough')\n",
        "x_categorical_encoded = ct.fit_transform(x_non_numeric)\n",
        "\n",
        "\n",
        "# The original x variable (numeric data)\n",
        "# The encoded categorical data\n",
        "# You would typically combine these for your final feature set\n",
        "# For now, we will just print the encoded categorical data\n",
        "print(\"Encoded categorical features:\")\n",
        "print(x_categorical_encoded)\n",
        "\n",
        "# The original line attempting to apply to the wrong x:\n",
        "# x = np.array(ct.fit_transform(x))"
      ],
      "metadata": {
        "colab": {
          "base_uri": "https://localhost:8080/"
        },
        "id": "nDWEH-1ew2xb",
        "outputId": "cc18d3fa-42f2-4c2e-d404-e58ad0aee703"
      },
      "execution_count": 14,
      "outputs": [
        {
          "output_type": "stream",
          "name": "stdout",
          "text": [
            "Encoded categorical features:\n",
            "<Compressed Sparse Row sparse matrix of dtype 'float64'\n",
            "\twith 20000 stored elements and shape (10000, 10)>\n",
            "  Coords\tValues\n",
            "  (0, 4)\t1.0\n",
            "  (0, 5)\t1.0\n",
            "  (1, 2)\t1.0\n",
            "  (1, 7)\t1.0\n",
            "  (2, 0)\t1.0\n",
            "  (2, 6)\t1.0\n",
            "  (3, 1)\t1.0\n",
            "  (3, 8)\t1.0\n",
            "  (4, 0)\t1.0\n",
            "  (4, 6)\t1.0\n",
            "  (5, 0)\t1.0\n",
            "  (5, 6)\t1.0\n",
            "  (6, 4)\t1.0\n",
            "  (6, 9)\t1.0\n",
            "  (7, 0)\t1.0\n",
            "  (7, 5)\t1.0\n",
            "  (8, 2)\t1.0\n",
            "  (8, 9)\t1.0\n",
            "  (9, 3)\t1.0\n",
            "  (9, 9)\t1.0\n",
            "  (10, 3)\t1.0\n",
            "  (10, 5)\t1.0\n",
            "  (11, 3)\t1.0\n",
            "  (11, 7)\t1.0\n",
            "  (12, 2)\t1.0\n",
            "  :\t:\n",
            "  (9987, 8)\t1.0\n",
            "  (9988, 0)\t1.0\n",
            "  (9988, 8)\t1.0\n",
            "  (9989, 2)\t1.0\n",
            "  (9989, 8)\t1.0\n",
            "  (9990, 3)\t1.0\n",
            "  (9990, 9)\t1.0\n",
            "  (9991, 2)\t1.0\n",
            "  (9991, 5)\t1.0\n",
            "  (9992, 1)\t1.0\n",
            "  (9992, 9)\t1.0\n",
            "  (9993, 2)\t1.0\n",
            "  (9993, 6)\t1.0\n",
            "  (9994, 0)\t1.0\n",
            "  (9994, 5)\t1.0\n",
            "  (9995, 0)\t1.0\n",
            "  (9995, 5)\t1.0\n",
            "  (9996, 2)\t1.0\n",
            "  (9996, 5)\t1.0\n",
            "  (9997, 1)\t1.0\n",
            "  (9997, 5)\t1.0\n",
            "  (9998, 4)\t1.0\n",
            "  (9998, 8)\t1.0\n",
            "  (9999, 1)\t1.0\n",
            "  (9999, 5)\t1.0\n"
          ]
        }
      ]
    },
    {
      "cell_type": "code",
      "source": [
        "from sklearn.preprocessing import LabelEncoder\n",
        "\n",
        "le = LabelEncoder()\n",
        "\n",
        "y = le.fit_transform(y)\n",
        "\n",
        "print(y)\n",
        "# if the output of y is YES(1) and NO(0)"
      ],
      "metadata": {
        "colab": {
          "base_uri": "https://localhost:8080/"
        },
        "id": "l45Vp21E5q7m",
        "outputId": "090165d5-cd46-4b70-f50c-c501cbd26a7b"
      },
      "execution_count": 15,
      "outputs": [
        {
          "output_type": "stream",
          "name": "stdout",
          "text": [
            "[1 0 1 ... 1 1 1]\n"
          ]
        }
      ]
    },
    {
      "cell_type": "code",
      "source": [
        "from sklearn.model_selection import train_test_split\n",
        "from sklearn.preprocessing import StandardScaler\n",
        "x_train,x_test,y_train,y_test=train_test_split(x,y,test_size=0.2,random_state=1)\n",
        "# print(x_train)\n",
        "# print(x_test)\n",
        "# print(y_train)\n",
        "# print(y_test)\n",
        "sc=StandardScaler()\n",
        "x_train[:,0:13]=sc.fit_transform(x_train[:,0:13])\n",
        "x_test[:,0:13]=sc.transform(x_test[:,0:13])\n",
        "print(x_train)\n",
        "print(x_test)"
      ],
      "metadata": {
        "colab": {
          "base_uri": "https://localhost:8080/"
        },
        "id": "D3_F2hr88bpp",
        "outputId": "fc8f0690-ad6d-4827-8cda-f0845199b5ad"
      },
      "execution_count": 16,
      "outputs": [
        {
          "output_type": "stream",
          "name": "stdout",
          "text": [
            "[[ 1.63417856  0.76058263  0.86795932 ...  0.99203175  1.00476134\n",
            "   0.99950012]\n",
            " [ 0.28481418  0.72078244 -1.33291123 ...  0.99203175 -0.99526123\n",
            "   0.99950012]\n",
            " [ 1.07744406  0.27332407 -1.46246162 ...  0.99203175  1.00476134\n",
            "   0.99950012]\n",
            " ...\n",
            " [ 1.38775316 -0.31467587  1.52636196 ... -1.00803226 -0.99526123\n",
            "  -1.00050013]\n",
            " [ 0.94465415 -0.75765023 -0.95779156 ... -1.00803226 -0.99526123\n",
            "   0.99950012]\n",
            " [ 0.79551971  0.27024577 -1.70459955 ... -1.00803226 -0.99526123\n",
            "   0.99950012]]\n",
            "[[-0.843701    0.35738266  1.08444487 ... -1.00803226  1.00476134\n",
            "   0.99950012]\n",
            " [-0.26489839 -1.2570289   0.32350714 ... -1.00803226  1.00476134\n",
            "  -1.00050013]\n",
            " [-0.70243206  1.2989158  -0.16307253 ... -1.00803226  1.00476134\n",
            "   0.99950012]\n",
            " ...\n",
            " [ 1.07622753 -1.66856049  1.3839758  ... -1.00803226  1.00476134\n",
            "   0.99950012]\n",
            " [ 0.3096614   1.22289674  1.48018186 ...  0.99203175 -0.99526123\n",
            "   0.99950012]\n",
            " [ 1.00034119 -0.88022559 -0.28438965 ...  0.99203175 -0.99526123\n",
            "   0.99950012]]\n"
          ]
        }
      ]
    },
    {
      "cell_type": "code",
      "source": [],
      "metadata": {
        "id": "XEvZmCtVxPry"
      },
      "execution_count": 16,
      "outputs": []
    }
  ]
}